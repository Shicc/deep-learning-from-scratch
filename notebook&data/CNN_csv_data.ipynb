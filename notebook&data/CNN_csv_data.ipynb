{
 "cells": [
  {
   "cell_type": "code",
   "execution_count": null,
   "metadata": {},
   "outputs": [],
   "source": []
  },
  {
   "cell_type": "code",
   "execution_count": 1,
   "metadata": {},
   "outputs": [
    {
     "name": "stdout",
     "output_type": "stream",
     "text": [
      "176\n",
      "237\n",
      "train_data: (4000, 1600)\n",
      "train_data.class: <class 'pandas.core.frame.DataFrame'>\n",
      "(4000, 1)\n"
     ]
    }
   ],
   "source": [
    "import pandas as pd\n",
    "import numpy as np\n",
    "\n",
    "# 准备训练数据\n",
    "#shape->(4000,1602)，列名自动没读，仅仅保留数据，故还需去掉每一行的首尾两个元素\n",
    "train_data_set = pd.read_csv('train.csv')\n",
    "# 完美得到需要的数据\n",
    "train_data = train_data_set.iloc[0:4000,1:1601]# 0为第一个，区间为[x,y)\n",
    "# 测试通过，验证了数据的正确性\n",
    "print(train_data.iloc[0,0])\n",
    "print(train_data.iloc[0,1599])\n",
    "\n",
    "# 下面需要先用一个变量保存一下所有行最后一个数值，即每一行数据的正确值\n",
    "train_labels = train_data_set.iloc[0:4000,[1601]] # 这应该是一个4000行1列的矩阵，shape：(4000,1)\n",
    "print('train_data:',train_data.shape)\n",
    "print('train_data.class:',type(train_data))\n",
    "print(train_labels.shape)\n"
   ]
  },
  {
   "cell_type": "markdown",
   "metadata": {},
   "source": [
    "## 准备测试数据"
   ]
  },
  {
   "cell_type": "code",
   "execution_count": 10,
   "metadata": {},
   "outputs": [
    {
     "name": "stdout",
     "output_type": "stream",
     "text": [
      "(3550, 1601)\n",
      "test_data: (3550, 1600)\n",
      "test_labels (3550, 1)\n",
      "(3550, 1)\n",
      "0\n"
     ]
    }
   ],
   "source": [
    "test_data = pd.read_csv('test.csv')\n",
    "# 根据测试数据集即可看出，测试集里不包含正确结果\n",
    "print(test_data.shape)\n",
    "test_data_resp1 = test_data.iloc[0:3550,1:1601]\n",
    "test_labels = pd.read_csv('sample_submit.csv').iloc[0:3550,[1]]\n",
    "#输出一下，看形状是否正确\n",
    "print('test_data:',test_data_resp1.shape)\n",
    "print('test_labels',test_labels.shape)\n",
    "print(test_labels.shape)\n",
    "print(test_labels.iloc[37,0]) #37应该看38.然后本来就是0开始的，也又是看37，对的。"
   ]
  },
  {
   "cell_type": "code",
   "execution_count": 6,
   "metadata": {},
   "outputs": [
    {
     "name": "stdout",
     "output_type": "stream",
     "text": [
      "   y\n",
      "0  1\n",
      "1  0\n",
      "2  0\n",
      "3  1\n",
      "4  0\n",
      "5  0\n",
      "6  1\n",
      "7  0\n",
      "8  1\n",
      "9  0\n"
     ]
    }
   ],
   "source": [
    "def convert2onehot(data):\n",
    "    return pd.get_dummies(data)\n",
    "\n",
    "train_labels = convert2onehot(train_labels)\n",
    "print(train_labels[:10])\n"
   ]
  },
  {
   "cell_type": "code",
   "execution_count": 5,
   "metadata": {},
   "outputs": [
    {
     "data": {
      "text/plain": [
       "-269675320000.0"
      ]
     },
     "execution_count": 5,
     "metadata": {},
     "output_type": "execute_result"
    }
   ],
   "source": [
    "-2.6967532e+11"
   ]
  },
  {
   "cell_type": "markdown",
   "metadata": {},
   "source": [
    "### 上面测试数据集的形状，下面是查看图片"
   ]
  },
  {
   "cell_type": "code",
   "execution_count": 29,
   "metadata": {},
   "outputs": [
    {
     "name": "stdout",
     "output_type": "stream",
     "text": [
      "(1600,)\n"
     ]
    },
    {
     "name": "stderr",
     "output_type": "stream",
     "text": [
      "d:\\program files\\python\\lib\\site-packages\\numpy\\core\\fromnumeric.py:57: FutureWarning: reshape is deprecated and will raise in a subsequent release. Please use .values.reshape(...) instead\n",
      "  return getattr(obj, method)(*args, **kwds)\n"
     ]
    },
    {
     "data": {
      "image/png": "[encoded data removed]",
      "text/plain": [
       "<matplotlib.figure.Figure at 0x19483205240>"
      ]
     },
     "metadata": {},
     "output_type": "display_data"
    }
   ],
   "source": [
    "import matplotlib.pyplot as plt\n",
    "\n",
    "print(train_data.iloc[0].shape)\n",
    "plt.imshow(np.reshape(train_data.iloc[0],(40,40)), cmap='gray')\n",
    "plt.title('%i' % train_labels.iloc[0,0]); plt.show()\n",
    "# 这是第一个图像，1表示方"
   ]
  },
  {
   "cell_type": "code",
   "execution_count": 34,
   "metadata": {},
   "outputs": [
    {
     "name": "stdout",
     "output_type": "stream",
     "text": [
      "   y\n",
      "0  1\n",
      "1  0\n",
      "2  0\n",
      "3  1\n",
      "4  0\n"
     ]
    }
   ],
   "source": [
    "# for i in range(5):\n",
    "#     print('第',i,'个：',train_labels.iloc[i,0])\n",
    "# 上面能正确显示，但是效率不高，pd有切片操作。。\n",
    "print(train_labels.iloc[0:5])"
   ]
  },
  {
   "cell_type": "code",
   "execution_count": 33,
   "metadata": {
    "scrolled": true
   },
   "outputs": [
    {
     "name": "stderr",
     "output_type": "stream",
     "text": [
      "d:\\program files\\python\\lib\\site-packages\\ipykernel_launcher.py:2: FutureWarning: reshape is deprecated and will raise in a subsequent release. Please use .values.reshape(...) instead\n",
      "  \n"
     ]
    },
    {
     "data": {
      "image/png": "[encoded data removed]",
      "text/plain": [
       "<matplotlib.figure.Figure at 0x19480115828>"
      ]
     },
     "metadata": {},
     "output_type": "display_data"
    }
   ],
   "source": [
    "# 来看看第二个图像，0表示圆\n",
    "plt.imshow(train_data.iloc[995].reshape(40,40), cmap='gray')\n",
    "plt.title('%i' % train_labels.iloc[995,0]); plt.show()"
   ]
  },
  {
   "cell_type": "code",
   "execution_count": 35,
   "metadata": {},
   "outputs": [],
   "source": [
    "# 保存为csv看看\n",
    "train_labels.to_csv('train_labels.csv')\n",
    "train_data.to_csv('train_data.csv')"
   ]
  },
  {
   "cell_type": "code",
   "execution_count": 5,
   "metadata": {},
   "outputs": [
    {
     "name": "stderr",
     "output_type": "stream",
     "text": [
      "d:\\program files\\python\\lib\\site-packages\\ipykernel_launcher.py:2: FutureWarning: reshape is deprecated and will raise in a subsequent release. Please use .values.reshape(...) instead\n",
      "  \n"
     ]
    },
    {
     "data": {
      "image/png": "[encoded data removed]",
      "text/plain": [
       "<matplotlib.figure.Figure at 0x152a925e1d0>"
      ]
     },
     "metadata": {},
     "output_type": "display_data"
    },
    {
     "name": "stderr",
     "output_type": "stream",
     "text": [
      "d:\\program files\\python\\lib\\site-packages\\ipykernel_launcher.py:5: FutureWarning: reshape is deprecated and will raise in a subsequent release. Please use .values.reshape(...) instead\n",
      "  \"\"\"\n"
     ]
    },
    {
     "data": {
      "image/png": "[encoded data removed]",
      "text/plain": [
       "<matplotlib.figure.Figure at 0x152ac0f1c18>"
      ]
     },
     "metadata": {},
     "output_type": "display_data"
    }
   ],
   "source": [
    "import matplotlib.pyplot as plt\n",
    "plt.imshow(train_data.iloc[995].reshape(40,40), cmap='gray')\n",
    "plt.title('%i' % train_labels.iloc[995,0]); plt.show()\n",
    "\n",
    "plt.imshow(train_data.iloc[0].reshape(40,40), cmap='gray')\n",
    "plt.title('%i' % train_labels.iloc[0,0]); plt.show()"
   ]
  },
  {
   "cell_type": "code",
   "execution_count": null,
   "metadata": {},
   "outputs": [],
   "source": []
  }
 ],
 "metadata": {
  "kernelspec": {
   "display_name": "Python 3",
   "language": "python",
   "name": "python3"
  },
  "language_info": {
   "codemirror_mode": {
    "name": "ipython",
    "version": 3
   },
   "file_extension": ".py",
   "mimetype": "text/x-python",
   "name": "python",
   "nbconvert_exporter": "python",
   "pygments_lexer": "ipython3",
   "version": "3.6.3"
  }
 },
 "nbformat": 4,
 "nbformat_minor": 2
}
