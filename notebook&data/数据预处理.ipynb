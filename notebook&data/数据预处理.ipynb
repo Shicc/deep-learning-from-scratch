{
 "cells": [
  {
   "cell_type": "code",
   "execution_count": 5,
   "metadata": {},
   "outputs": [
    {
     "name": "stdout",
     "output_type": "stream",
     "text": [
      "train_data_set_shape:  (4000, 1601)\n",
      "   p_0_0  p_0_1  p_0_2  p_0_3  p_0_4  p_0_5  p_0_6  p_0_7  p_0_8  p_0_9 ...  \\\n",
      "0    176    224    164     66    255     79    255    156    118    196 ...   \n",
      "\n",
      "   p_39_31  p_39_32  p_39_33  p_39_34  p_39_35  p_39_36  p_39_37  p_39_38  \\\n",
      "0       16      192      244      171      193      250      247      240   \n",
      "\n",
      "   p_39_39  y  \n",
      "0      237  1  \n",
      "\n",
      "[1 rows x 1601 columns]\n",
      "1\n"
     ]
    }
   ],
   "source": [
    "import pandas as pd\n",
    "\n",
    "train_data_set = pd.read_csv('train.csv').iloc[:,1:]\n",
    "print('train_data_set_shape: ',train_data_set.shape)\n",
    "print(train_data_set.iloc[:1,:])\n",
    "print(len(train_data_set.iloc[:1,:]))"
   ]
  },
  {
   "cell_type": "code",
   "execution_count": 7,
   "metadata": {},
   "outputs": [
    {
     "name": "stdout",
     "output_type": "stream",
     "text": [
      "(4000, 1601)\n"
     ]
    }
   ],
   "source": [
    "import numpy as np\n",
    "\n",
    "train_data_set = train_data_set.values.astype(np.float32)\n",
    "np.random.shuffle(train_data_set)\n",
    "print(train_data_set.shape)"
   ]
  },
  {
   "cell_type": "code",
   "execution_count": 9,
   "metadata": {},
   "outputs": [
    {
     "name": "stdout",
     "output_type": "stream",
     "text": [
      "(4000, 1)\n",
      "(4000, 1600)\n"
     ]
    }
   ],
   "source": [
    "print(train_data_set[:,1600:].shape)\n",
    "print(train_data_set[:,:1600].shape)"
   ]
  },
  {
   "cell_type": "code",
   "execution_count": 10,
   "metadata": {},
   "outputs": [
    {
     "name": "stdout",
     "output_type": "stream",
     "text": [
      "4000\n",
      "1\n",
      "237\n",
      "----------\n",
      "0\n",
      "161\n",
      "----------\n",
      "0\n",
      "98\n",
      "----------\n",
      "1\n",
      "16\n",
      "----------\n",
      "0\n",
      "169\n",
      "----------\n"
     ]
    }
   ],
   "source": [
    "data_without_onehot = pd.read_csv('train.csv').iloc[:,1:]\n",
    "print(len(data_without_onehot))\n",
    "for i in range(5):\n",
    "    print(data_without_onehot.iloc[i,1600])\n",
    "    print(data_without_onehot.iloc[i,1599])\n",
    "    print('----------')\n",
    "    \n",
    "# 检验正确，说明切割没有问题"
   ]
  },
  {
   "cell_type": "code",
   "execution_count": null,
   "metadata": {},
   "outputs": [],
   "source": []
  }
 ],
 "metadata": {
  "kernelspec": {
   "display_name": "Python 3",
   "language": "python",
   "name": "python3"
  },
  "language_info": {
   "codemirror_mode": {
    "name": "ipython",
    "version": 3
   },
   "file_extension": ".py",
   "mimetype": "text/x-python",
   "name": "python",
   "nbconvert_exporter": "python",
   "pygments_lexer": "ipython3",
   "version": "3.6.3"
  }
 },
 "nbformat": 4,
 "nbformat_minor": 2
}
