{
 "cells": [
  {
   "cell_type": "code",
   "execution_count": 6,
   "metadata": {},
   "outputs": [
    {
     "name": "stdout",
     "output_type": "stream",
     "text": [
      "    y_label\n",
      "0         1\n",
      "1         0\n",
      "2         1\n",
      "3         0\n",
      "4         1\n",
      "5         0\n",
      "6         1\n",
      "7         0\n",
      "8         1\n",
      "9         0\n",
      "10        1\n",
      "11        0\n",
      "12        1\n",
      "13        0\n",
      "14        1\n",
      "15        0\n",
      "16        1\n",
      "17        0\n",
      "18        1\n",
      "19        0\n",
      "20        1\n",
      "21        0\n",
      "22        1\n",
      "23        0\n",
      "24        1\n",
      "25        0\n",
      "26        1\n",
      "27        0\n",
      "28        1\n",
      "29        0\n",
      "30        1\n",
      "31        0\n",
      "32        1\n",
      "33        0\n",
      "34        1\n",
      "35        0\n",
      "36        1\n",
      "37        0\n",
      "38        1\n",
      "39        0\n",
      "40        1\n",
      "41        0\n",
      "42        1\n",
      "43        0\n",
      "44        1\n",
      "45        0\n",
      "46        1\n",
      "47        0\n",
      "48        1\n",
      "49        0\n",
      "Index(['y_label'], dtype='object')\n"
     ]
    }
   ],
   "source": [
    "import pandas as pd\n",
    "\n",
    "by = pd.read_csv('b_y.csv',names=[\"y_label\"])\n",
    "print(by)\n",
    "print(by.columns)"
   ]
  },
  {
   "cell_type": "code",
   "execution_count": 16,
   "metadata": {},
   "outputs": [
    {
     "name": "stdout",
     "output_type": "stream",
     "text": [
      "0\n",
      "50\n"
     ]
    }
   ],
   "source": [
    "print(by.iloc[1,0])\n",
    "print(len(by))"
   ]
  },
  {
   "cell_type": "code",
   "execution_count": 19,
   "metadata": {},
   "outputs": [
    {
     "name": "stdout",
     "output_type": "stream",
     "text": [
      "   y_label\n",
      "0        f\n",
      "1        y\n",
      "2        f\n",
      "3        y\n",
      "4        f\n",
      "5        y\n",
      "6        f\n",
      "7        y\n",
      "8        f\n",
      "9        y\n",
      "10       f\n",
      "11       y\n",
      "12       f\n",
      "13       y\n",
      "14       f\n",
      "15       y\n",
      "16       f\n",
      "17       y\n",
      "18       f\n",
      "19       y\n",
      "20       f\n",
      "21       y\n",
      "22       f\n",
      "23       y\n",
      "24       f\n",
      "25       y\n",
      "26       f\n",
      "27       y\n",
      "28       f\n",
      "29       y\n",
      "30       f\n",
      "31       y\n",
      "32       f\n",
      "33       y\n",
      "34       f\n",
      "35       y\n",
      "36       f\n",
      "37       y\n",
      "38       f\n",
      "39       y\n",
      "40       f\n",
      "41       y\n",
      "42       f\n",
      "43       y\n",
      "44       f\n",
      "45       y\n",
      "46       f\n",
      "47       y\n",
      "48       f\n",
      "49       y\n"
     ]
    }
   ],
   "source": [
    "# 把0换成y（圆），1改成f（方）\n",
    "for i in range(len(by)):\n",
    "    if by.iloc[i,0]==0:\n",
    "        by.iloc[i,0] = 'y'\n",
    "    else:\n",
    "        by.iloc[i,0] = 'f'\n",
    "print(by)"
   ]
  },
  {
   "cell_type": "code",
   "execution_count": 20,
   "metadata": {},
   "outputs": [
    {
     "name": "stdout",
     "output_type": "stream",
     "text": [
      "    y_label_f  y_label_y\n",
      "0           1          0\n",
      "1           0          1\n",
      "2           1          0\n",
      "3           0          1\n",
      "4           1          0\n",
      "5           0          1\n",
      "6           1          0\n",
      "7           0          1\n",
      "8           1          0\n",
      "9           0          1\n",
      "10          1          0\n",
      "11          0          1\n",
      "12          1          0\n",
      "13          0          1\n",
      "14          1          0\n",
      "15          0          1\n",
      "16          1          0\n",
      "17          0          1\n",
      "18          1          0\n",
      "19          0          1\n",
      "20          1          0\n",
      "21          0          1\n",
      "22          1          0\n",
      "23          0          1\n",
      "24          1          0\n",
      "25          0          1\n",
      "26          1          0\n",
      "27          0          1\n",
      "28          1          0\n",
      "29          0          1\n",
      "30          1          0\n",
      "31          0          1\n",
      "32          1          0\n",
      "33          0          1\n",
      "34          1          0\n",
      "35          0          1\n",
      "36          1          0\n",
      "37          0          1\n",
      "38          1          0\n",
      "39          0          1\n",
      "40          1          0\n",
      "41          0          1\n",
      "42          1          0\n",
      "43          0          1\n",
      "44          1          0\n",
      "45          0          1\n",
      "46          1          0\n",
      "47          0          1\n",
      "48          1          0\n",
      "49          0          1\n"
     ]
    }
   ],
   "source": [
    "by_onehot = pd.get_dummies(by,prefix=by.columns)\n",
    "print(by_onehot)"
   ]
  },
  {
   "cell_type": "code",
   "execution_count": null,
   "metadata": {},
   "outputs": [],
   "source": []
  }
 ],
 "metadata": {
  "kernelspec": {
   "display_name": "Python 3",
   "language": "python",
   "name": "python3"
  },
  "language_info": {
   "codemirror_mode": {
    "name": "ipython",
    "version": 3
   },
   "file_extension": ".py",
   "mimetype": "text/x-python",
   "name": "python",
   "nbconvert_exporter": "python",
   "pygments_lexer": "ipython3",
   "version": "3.6.3"
  }
 },
 "nbformat": 4,
 "nbformat_minor": 2
}
